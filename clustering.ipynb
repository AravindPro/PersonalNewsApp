{
 "cells": [
  {
   "cell_type": "code",
   "execution_count": 3,
   "metadata": {},
   "outputs": [],
   "source": [
    "import numpy as np\n",
    "arr = np.load('data/mydata_old.npy')"
   ]
  },
  {
   "cell_type": "code",
   "execution_count": 4,
   "metadata": {},
   "outputs": [],
   "source": [
    "from sklearn.metrics.pairwise import cosine_similarity\n",
    "from scipy.spatial.distance import cdist\n",
    "\n",
    "def cosine(u,v):\n",
    "\tu = u.reshape(1, -1)\n",
    "\tv = v.reshape(1, -1)\n",
    "\treturn cosine_similarity(u, v)\n",
    "# Assuming you have a matrix 'data' of shape (n, d)\n",
    "# data = np.array([[x1, y1, z1], [x2, y2, z2], ...])  # Example data\n",
    "pairwise = cdist(arr, arr, metric=cosine)"
   ]
  },
  {
   "cell_type": "code",
   "execution_count": 7,
   "metadata": {},
   "outputs": [
    {
     "ename": "IndexError",
     "evalue": "list index out of range",
     "output_type": "error",
     "traceback": [
      "\u001b[1;31m---------------------------------------------------------------------------\u001b[0m",
      "\u001b[1;31mIndexError\u001b[0m                                Traceback (most recent call last)",
      "Cell \u001b[1;32mIn[7], line 10\u001b[0m\n\u001b[0;32m      8\u001b[0m \u001b[38;5;28;01mif\u001b[39;00m(pairwise[i][j]\u001b[38;5;241m>\u001b[39m\u001b[38;5;241m=\u001b[39m\u001b[38;5;241m0.6\u001b[39m):\n\u001b[0;32m      9\u001b[0m \t\u001b[38;5;28;01mfor\u001b[39;00m ind \u001b[38;5;129;01min\u001b[39;00m \u001b[38;5;28mrange\u001b[39m(\u001b[38;5;28mlen\u001b[39m(clusters)):\n\u001b[1;32m---> 10\u001b[0m \t\t\u001b[38;5;28;01mif\u001b[39;00m(j \u001b[38;5;129;01min\u001b[39;00m \u001b[43mclusters\u001b[49m\u001b[43m[\u001b[49m\u001b[43mind\u001b[49m\u001b[43m]\u001b[49m):\n\u001b[0;32m     11\u001b[0m \t\t\tcluster \u001b[38;5;241m=\u001b[39m clusters\u001b[38;5;241m.\u001b[39mpop(clusterind)\n\u001b[0;32m     12\u001b[0m \t\t\tclusters[ind]\u001b[38;5;241m.\u001b[39mextend(cluster)\n",
      "\u001b[1;31mIndexError\u001b[0m: list index out of range"
     ]
    }
   ],
   "source": [
    "clusters = []\n",
    "\n",
    "for i in range(arr.shape[0]):\n",
    "\tclusters.append([i,])\n",
    "\tclusterind = len(clusters)-1\n",
    "\n",
    "\tfor j in range(i):\n",
    "\t\tif(pairwise[i][j]>=0.6):\n",
    "\t\t\tfor ind in range(len(clusters)):\n",
    "\t\t\t\tif(j in clusters[ind]):\n",
    "\t\t\t\t\tcluster = clusters.pop(clusterind)\n",
    "\t\t\t\t\tclusters[ind].extend(cluster)\n",
    "\t\t\t\t\tclusterind = ind\n",
    "\n",
    "print(clusters)\n",
    "\n",
    "\n"
   ]
  }
 ],
 "metadata": {
  "kernelspec": {
   "display_name": "ml",
   "language": "python",
   "name": "python3"
  },
  "language_info": {
   "codemirror_mode": {
    "name": "ipython",
    "version": 3
   },
   "file_extension": ".py",
   "mimetype": "text/x-python",
   "name": "python",
   "nbconvert_exporter": "python",
   "pygments_lexer": "ipython3",
   "version": "3.10.11"
  }
 },
 "nbformat": 4,
 "nbformat_minor": 2
}
